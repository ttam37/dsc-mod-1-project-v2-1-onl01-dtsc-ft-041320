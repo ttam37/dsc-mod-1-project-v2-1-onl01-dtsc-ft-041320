{
 "cells": [
  {
   "cell_type": "markdown",
   "metadata": {},
   "source": [
    "### Datasets Analyzed\n",
    "- TN movie budgets\n",
    "- TMDB movies"
   ]
  },
  {
   "cell_type": "markdown",
   "metadata": {},
   "source": [
    "# Q2 - What are the top 10 most popular and highest rated films? Is there a relationship between popularity and highest rated?"
   ]
  },
  {
   "cell_type": "markdown",
   "metadata": {},
   "source": [
    "### Import Necessary Libraries"
   ]
  },
  {
   "cell_type": "code",
   "execution_count": 1393,
   "metadata": {},
   "outputs": [],
   "source": [
    "import pandas as pd\n",
    "import numpy as np\n",
    "import matplotlib.pyplot as plt\n",
    "import seaborn as sns\n",
    "import datetime"
   ]
  },
  {
   "cell_type": "markdown",
   "metadata": {},
   "source": [
    "### Import TMDB Movies Dataset"
   ]
  },
  {
   "cell_type": "code",
   "execution_count": 1394,
   "metadata": {},
   "outputs": [
    {
     "data": {
      "text/html": [
       "<div>\n",
       "<style scoped>\n",
       "    .dataframe tbody tr th:only-of-type {\n",
       "        vertical-align: middle;\n",
       "    }\n",
       "\n",
       "    .dataframe tbody tr th {\n",
       "        vertical-align: top;\n",
       "    }\n",
       "\n",
       "    .dataframe thead th {\n",
       "        text-align: right;\n",
       "    }\n",
       "</style>\n",
       "<table border=\"1\" class=\"dataframe\">\n",
       "  <thead>\n",
       "    <tr style=\"text-align: right;\">\n",
       "      <th></th>\n",
       "      <th>genre_ids</th>\n",
       "      <th>id</th>\n",
       "      <th>original_language</th>\n",
       "      <th>original_title</th>\n",
       "      <th>popularity</th>\n",
       "      <th>release_date</th>\n",
       "      <th>title</th>\n",
       "      <th>vote_average</th>\n",
       "      <th>vote_count</th>\n",
       "    </tr>\n",
       "  </thead>\n",
       "  <tbody>\n",
       "    <tr>\n",
       "      <td>0</td>\n",
       "      <td>[12, 14, 10751]</td>\n",
       "      <td>12444</td>\n",
       "      <td>en</td>\n",
       "      <td>Harry Potter and the Deathly Hallows: Part 1</td>\n",
       "      <td>33.53</td>\n",
       "      <td>2010-11-19</td>\n",
       "      <td>Harry Potter and the Deathly Hallows: Part 1</td>\n",
       "      <td>7.70</td>\n",
       "      <td>10788</td>\n",
       "    </tr>\n",
       "    <tr>\n",
       "      <td>1</td>\n",
       "      <td>[14, 12, 16, 10751]</td>\n",
       "      <td>10191</td>\n",
       "      <td>en</td>\n",
       "      <td>How to Train Your Dragon</td>\n",
       "      <td>28.73</td>\n",
       "      <td>2010-03-26</td>\n",
       "      <td>How to Train Your Dragon</td>\n",
       "      <td>7.70</td>\n",
       "      <td>7610</td>\n",
       "    </tr>\n",
       "    <tr>\n",
       "      <td>2</td>\n",
       "      <td>[12, 28, 878]</td>\n",
       "      <td>10138</td>\n",
       "      <td>en</td>\n",
       "      <td>Iron Man 2</td>\n",
       "      <td>28.52</td>\n",
       "      <td>2010-05-07</td>\n",
       "      <td>Iron Man 2</td>\n",
       "      <td>6.80</td>\n",
       "      <td>12368</td>\n",
       "    </tr>\n",
       "    <tr>\n",
       "      <td>3</td>\n",
       "      <td>[16, 35, 10751]</td>\n",
       "      <td>862</td>\n",
       "      <td>en</td>\n",
       "      <td>Toy Story</td>\n",
       "      <td>28.00</td>\n",
       "      <td>1995-11-22</td>\n",
       "      <td>Toy Story</td>\n",
       "      <td>7.90</td>\n",
       "      <td>10174</td>\n",
       "    </tr>\n",
       "    <tr>\n",
       "      <td>4</td>\n",
       "      <td>[28, 878, 12]</td>\n",
       "      <td>27205</td>\n",
       "      <td>en</td>\n",
       "      <td>Inception</td>\n",
       "      <td>27.92</td>\n",
       "      <td>2010-07-16</td>\n",
       "      <td>Inception</td>\n",
       "      <td>8.30</td>\n",
       "      <td>22186</td>\n",
       "    </tr>\n",
       "  </tbody>\n",
       "</table>\n",
       "</div>"
      ],
      "text/plain": [
       "             genre_ids     id original_language  \\\n",
       "0      [12, 14, 10751]  12444                en   \n",
       "1  [14, 12, 16, 10751]  10191                en   \n",
       "2        [12, 28, 878]  10138                en   \n",
       "3      [16, 35, 10751]    862                en   \n",
       "4        [28, 878, 12]  27205                en   \n",
       "\n",
       "                                 original_title  popularity release_date  \\\n",
       "0  Harry Potter and the Deathly Hallows: Part 1       33.53   2010-11-19   \n",
       "1                      How to Train Your Dragon       28.73   2010-03-26   \n",
       "2                                    Iron Man 2       28.52   2010-05-07   \n",
       "3                                     Toy Story       28.00   1995-11-22   \n",
       "4                                     Inception       27.92   2010-07-16   \n",
       "\n",
       "                                          title  vote_average  vote_count  \n",
       "0  Harry Potter and the Deathly Hallows: Part 1          7.70       10788  \n",
       "1                      How to Train Your Dragon          7.70        7610  \n",
       "2                                    Iron Man 2          6.80       12368  \n",
       "3                                     Toy Story          7.90       10174  \n",
       "4                                     Inception          8.30       22186  "
      ]
     },
     "execution_count": 1394,
     "metadata": {},
     "output_type": "execute_result"
    }
   ],
   "source": [
    "tmdb_movies = pd.read_csv('zippedData/tmdb.movies.csv.gz', \n",
    "                          compression='gzip', \n",
    "                          header=0, \n",
    "                          sep=',', \n",
    "                          quotechar='\"', \n",
    "                          error_bad_lines=False, \n",
    "                          index_col=0)\n",
    "tmdb_movies.head()"
   ]
  },
  {
   "cell_type": "code",
   "execution_count": 1395,
   "metadata": {},
   "outputs": [
    {
     "name": "stdout",
     "output_type": "stream",
     "text": [
      "<class 'pandas.core.frame.DataFrame'>\n",
      "Int64Index: 26517 entries, 0 to 26516\n",
      "Data columns (total 9 columns):\n",
      "genre_ids            26517 non-null object\n",
      "id                   26517 non-null int64\n",
      "original_language    26517 non-null object\n",
      "original_title       26517 non-null object\n",
      "popularity           26517 non-null float64\n",
      "release_date         26517 non-null object\n",
      "title                26517 non-null object\n",
      "vote_average         26517 non-null float64\n",
      "vote_count           26517 non-null int64\n",
      "dtypes: float64(2), int64(2), object(5)\n",
      "memory usage: 2.0+ MB\n"
     ]
    }
   ],
   "source": [
    "tmdb_movies.info()"
   ]
  },
  {
   "cell_type": "markdown",
   "metadata": {},
   "source": [
    "### Filtered dataset higher than 190 vote counts and movies for 2010 - 2020\n",
    "\n",
    "We filtered for movies that had above the average vote count of 190 to exclude movies that have high voting averages with low vote counts. We analyzed only movies released in the past 10 years due to box office numbers being a lot lower in previous decades which may drag the average box office numbers down."
   ]
  },
  {
   "cell_type": "code",
   "execution_count": 1396,
   "metadata": {},
   "outputs": [
    {
     "data": {
      "text/html": [
       "<div>\n",
       "<style scoped>\n",
       "    .dataframe tbody tr th:only-of-type {\n",
       "        vertical-align: middle;\n",
       "    }\n",
       "\n",
       "    .dataframe tbody tr th {\n",
       "        vertical-align: top;\n",
       "    }\n",
       "\n",
       "    .dataframe thead th {\n",
       "        text-align: right;\n",
       "    }\n",
       "</style>\n",
       "<table border=\"1\" class=\"dataframe\">\n",
       "  <thead>\n",
       "    <tr style=\"text-align: right;\">\n",
       "      <th></th>\n",
       "      <th>id</th>\n",
       "      <th>popularity</th>\n",
       "      <th>vote_average</th>\n",
       "      <th>vote_count</th>\n",
       "    </tr>\n",
       "  </thead>\n",
       "  <tbody>\n",
       "    <tr>\n",
       "      <td>count</td>\n",
       "      <td>26022.00</td>\n",
       "      <td>26022.00</td>\n",
       "      <td>26022.00</td>\n",
       "      <td>26022.00</td>\n",
       "    </tr>\n",
       "    <tr>\n",
       "      <td>mean</td>\n",
       "      <td>298230.63</td>\n",
       "      <td>3.11</td>\n",
       "      <td>5.99</td>\n",
       "      <td>189.23</td>\n",
       "    </tr>\n",
       "    <tr>\n",
       "      <td>std</td>\n",
       "      <td>152145.89</td>\n",
       "      <td>4.32</td>\n",
       "      <td>1.85</td>\n",
       "      <td>943.80</td>\n",
       "    </tr>\n",
       "    <tr>\n",
       "      <td>min</td>\n",
       "      <td>189.00</td>\n",
       "      <td>0.60</td>\n",
       "      <td>0.00</td>\n",
       "      <td>1.00</td>\n",
       "    </tr>\n",
       "    <tr>\n",
       "      <td>25%</td>\n",
       "      <td>164657.75</td>\n",
       "      <td>0.60</td>\n",
       "      <td>5.00</td>\n",
       "      <td>2.00</td>\n",
       "    </tr>\n",
       "    <tr>\n",
       "      <td>50%</td>\n",
       "      <td>314128.00</td>\n",
       "      <td>1.38</td>\n",
       "      <td>6.00</td>\n",
       "      <td>5.00</td>\n",
       "    </tr>\n",
       "    <tr>\n",
       "      <td>75%</td>\n",
       "      <td>421398.25</td>\n",
       "      <td>3.68</td>\n",
       "      <td>7.00</td>\n",
       "      <td>28.00</td>\n",
       "    </tr>\n",
       "    <tr>\n",
       "      <td>max</td>\n",
       "      <td>608444.00</td>\n",
       "      <td>80.77</td>\n",
       "      <td>10.00</td>\n",
       "      <td>22186.00</td>\n",
       "    </tr>\n",
       "  </tbody>\n",
       "</table>\n",
       "</div>"
      ],
      "text/plain": [
       "             id  popularity  vote_average  vote_count\n",
       "count  26022.00    26022.00      26022.00    26022.00\n",
       "mean  298230.63        3.11          5.99      189.23\n",
       "std   152145.89        4.32          1.85      943.80\n",
       "min      189.00        0.60          0.00        1.00\n",
       "25%   164657.75        0.60          5.00        2.00\n",
       "50%   314128.00        1.38          6.00        5.00\n",
       "75%   421398.25        3.68          7.00       28.00\n",
       "max   608444.00       80.77         10.00    22186.00"
      ]
     },
     "execution_count": 1396,
     "metadata": {},
     "output_type": "execute_result"
    }
   ],
   "source": [
    "#Find the average vote count for all movies in the past 10 years\n",
    "tmdb_movies.loc[tmdb_movies['release_date'] > '2010-01-01'].describe()"
   ]
  },
  {
   "cell_type": "code",
   "execution_count": 1397,
   "metadata": {},
   "outputs": [
    {
     "data": {
      "text/html": [
       "<div>\n",
       "<style scoped>\n",
       "    .dataframe tbody tr th:only-of-type {\n",
       "        vertical-align: middle;\n",
       "    }\n",
       "\n",
       "    .dataframe tbody tr th {\n",
       "        vertical-align: top;\n",
       "    }\n",
       "\n",
       "    .dataframe thead th {\n",
       "        text-align: right;\n",
       "    }\n",
       "</style>\n",
       "<table border=\"1\" class=\"dataframe\">\n",
       "  <thead>\n",
       "    <tr style=\"text-align: right;\">\n",
       "      <th></th>\n",
       "      <th>original_title</th>\n",
       "      <th>popularity</th>\n",
       "      <th>vote_average</th>\n",
       "      <th>release_date</th>\n",
       "    </tr>\n",
       "  </thead>\n",
       "  <tbody>\n",
       "    <tr>\n",
       "      <td>0</td>\n",
       "      <td>Harry Potter and the Deathly Hallows: Part 1</td>\n",
       "      <td>33.53</td>\n",
       "      <td>7.70</td>\n",
       "      <td>2010-11-19</td>\n",
       "    </tr>\n",
       "    <tr>\n",
       "      <td>1</td>\n",
       "      <td>How to Train Your Dragon</td>\n",
       "      <td>28.73</td>\n",
       "      <td>7.70</td>\n",
       "      <td>2010-03-26</td>\n",
       "    </tr>\n",
       "    <tr>\n",
       "      <td>2</td>\n",
       "      <td>Iron Man 2</td>\n",
       "      <td>28.52</td>\n",
       "      <td>6.80</td>\n",
       "      <td>2010-05-07</td>\n",
       "    </tr>\n",
       "    <tr>\n",
       "      <td>4</td>\n",
       "      <td>Inception</td>\n",
       "      <td>27.92</td>\n",
       "      <td>8.30</td>\n",
       "      <td>2010-07-16</td>\n",
       "    </tr>\n",
       "    <tr>\n",
       "      <td>5</td>\n",
       "      <td>Percy Jackson &amp; the Olympians: The Lightning T...</td>\n",
       "      <td>26.69</td>\n",
       "      <td>6.10</td>\n",
       "      <td>2010-02-11</td>\n",
       "    </tr>\n",
       "  </tbody>\n",
       "</table>\n",
       "</div>"
      ],
      "text/plain": [
       "                                      original_title  popularity  \\\n",
       "0       Harry Potter and the Deathly Hallows: Part 1       33.53   \n",
       "1                           How to Train Your Dragon       28.73   \n",
       "2                                         Iron Man 2       28.52   \n",
       "4                                          Inception       27.92   \n",
       "5  Percy Jackson & the Olympians: The Lightning T...       26.69   \n",
       "\n",
       "   vote_average release_date  \n",
       "0          7.70   2010-11-19  \n",
       "1          7.70   2010-03-26  \n",
       "2          6.80   2010-05-07  \n",
       "4          8.30   2010-07-16  \n",
       "5          6.10   2010-02-11  "
      ]
     },
     "execution_count": 1397,
     "metadata": {},
     "output_type": "execute_result"
    }
   ],
   "source": [
    "#filter the tmdb movies with vote count above 190 and release date after 2010\n",
    "filtered_tmdb_movies = tmdb_movies.loc[(tmdb_movies['vote_count'] > 190) & \n",
    "                                       (tmdb_movies['release_date'] > '2010-01-01'), \n",
    "                                       ['original_title','popularity','vote_average','release_date']]\n",
    "filtered_tmdb_movies.head()"
   ]
  },
  {
   "cell_type": "markdown",
   "metadata": {},
   "source": [
    "### Removed Duplicates from Dataset"
   ]
  },
  {
   "cell_type": "code",
   "execution_count": 1398,
   "metadata": {},
   "outputs": [
    {
     "name": "stdout",
     "output_type": "stream",
     "text": [
      "Number of Duplicates: 241\n"
     ]
    }
   ],
   "source": [
    "#Find the total number of duplicates based on title\n",
    "print('Number of Duplicates:', filtered_tmdb_movies['original_title'].duplicated().sum())"
   ]
  },
  {
   "cell_type": "code",
   "execution_count": 1399,
   "metadata": {},
   "outputs": [
    {
     "name": "stdout",
     "output_type": "stream",
     "text": [
      "Duplicates Remaining: 0\n"
     ]
    }
   ],
   "source": [
    "#Drop duplicates\n",
    "filtered_tmdb_movies.drop_duplicates(inplace=True)\n",
    "\n",
    "#Check duplicates were dropped\n",
    "print('Duplicates Remaining:', filtered_tmdb_movies.duplicated().sum())"
   ]
  },
  {
   "cell_type": "markdown",
   "metadata": {},
   "source": [
    "### Descriptive Statistics for Popularity & Vote Average"
   ]
  },
  {
   "cell_type": "code",
   "execution_count": 1400,
   "metadata": {},
   "outputs": [
    {
     "data": {
      "text/html": [
       "<div>\n",
       "<style scoped>\n",
       "    .dataframe tbody tr th:only-of-type {\n",
       "        vertical-align: middle;\n",
       "    }\n",
       "\n",
       "    .dataframe tbody tr th {\n",
       "        vertical-align: top;\n",
       "    }\n",
       "\n",
       "    .dataframe thead th {\n",
       "        text-align: right;\n",
       "    }\n",
       "</style>\n",
       "<table border=\"1\" class=\"dataframe\">\n",
       "  <thead>\n",
       "    <tr style=\"text-align: right;\">\n",
       "      <th></th>\n",
       "      <th>popularity</th>\n",
       "      <th>vote_average</th>\n",
       "    </tr>\n",
       "  </thead>\n",
       "  <tbody>\n",
       "    <tr>\n",
       "      <td>count</td>\n",
       "      <td>2412.00</td>\n",
       "      <td>2412.00</td>\n",
       "    </tr>\n",
       "    <tr>\n",
       "      <td>mean</td>\n",
       "      <td>12.38</td>\n",
       "      <td>6.40</td>\n",
       "    </tr>\n",
       "    <tr>\n",
       "      <td>std</td>\n",
       "      <td>6.72</td>\n",
       "      <td>0.82</td>\n",
       "    </tr>\n",
       "    <tr>\n",
       "      <td>min</td>\n",
       "      <td>0.60</td>\n",
       "      <td>3.70</td>\n",
       "    </tr>\n",
       "    <tr>\n",
       "      <td>25%</td>\n",
       "      <td>8.24</td>\n",
       "      <td>5.90</td>\n",
       "    </tr>\n",
       "    <tr>\n",
       "      <td>50%</td>\n",
       "      <td>10.32</td>\n",
       "      <td>6.40</td>\n",
       "    </tr>\n",
       "    <tr>\n",
       "      <td>75%</td>\n",
       "      <td>14.38</td>\n",
       "      <td>7.00</td>\n",
       "    </tr>\n",
       "    <tr>\n",
       "      <td>max</td>\n",
       "      <td>80.77</td>\n",
       "      <td>8.60</td>\n",
       "    </tr>\n",
       "  </tbody>\n",
       "</table>\n",
       "</div>"
      ],
      "text/plain": [
       "       popularity  vote_average\n",
       "count     2412.00       2412.00\n",
       "mean        12.38          6.40\n",
       "std          6.72          0.82\n",
       "min          0.60          3.70\n",
       "25%          8.24          5.90\n",
       "50%         10.32          6.40\n",
       "75%         14.38          7.00\n",
       "max         80.77          8.60"
      ]
     },
     "execution_count": 1400,
     "metadata": {},
     "output_type": "execute_result"
    }
   ],
   "source": [
    "filtered_tmdb_movies.describe()"
   ]
  },
  {
   "cell_type": "markdown",
   "metadata": {},
   "source": [
    "### Top 10 Most Popular Movies 2010 - 2020"
   ]
  },
  {
   "cell_type": "markdown",
   "metadata": {},
   "source": [
    "At a quick glance between the top 10 Popular Movies and top 10 Highly Rated Movies, not all of the movies are the same. We can assume that Popularity and Highly Rated will not have a strong positive correlation."
   ]
  },
  {
   "cell_type": "code",
   "execution_count": 1401,
   "metadata": {
    "scrolled": true
   },
   "outputs": [
    {
     "data": {
      "text/html": [
       "<div>\n",
       "<style scoped>\n",
       "    .dataframe tbody tr th:only-of-type {\n",
       "        vertical-align: middle;\n",
       "    }\n",
       "\n",
       "    .dataframe tbody tr th {\n",
       "        vertical-align: top;\n",
       "    }\n",
       "\n",
       "    .dataframe thead th {\n",
       "        text-align: right;\n",
       "    }\n",
       "</style>\n",
       "<table border=\"1\" class=\"dataframe\">\n",
       "  <thead>\n",
       "    <tr style=\"text-align: right;\">\n",
       "      <th></th>\n",
       "      <th>original_title</th>\n",
       "      <th>popularity</th>\n",
       "    </tr>\n",
       "  </thead>\n",
       "  <tbody>\n",
       "    <tr>\n",
       "      <td>23811</td>\n",
       "      <td>Avengers: Infinity War</td>\n",
       "      <td>80.77</td>\n",
       "    </tr>\n",
       "    <tr>\n",
       "      <td>11019</td>\n",
       "      <td>John Wick</td>\n",
       "      <td>78.12</td>\n",
       "    </tr>\n",
       "    <tr>\n",
       "      <td>23812</td>\n",
       "      <td>Spider-Man: Into the Spider-Verse</td>\n",
       "      <td>60.53</td>\n",
       "    </tr>\n",
       "    <tr>\n",
       "      <td>11020</td>\n",
       "      <td>The Hobbit: The Battle of the Five Armies</td>\n",
       "      <td>53.78</td>\n",
       "    </tr>\n",
       "    <tr>\n",
       "      <td>5179</td>\n",
       "      <td>The Avengers</td>\n",
       "      <td>50.29</td>\n",
       "    </tr>\n",
       "    <tr>\n",
       "      <td>11021</td>\n",
       "      <td>Guardians of the Galaxy</td>\n",
       "      <td>49.61</td>\n",
       "    </tr>\n",
       "    <tr>\n",
       "      <td>20617</td>\n",
       "      <td>Blade Runner 2049</td>\n",
       "      <td>48.57</td>\n",
       "    </tr>\n",
       "    <tr>\n",
       "      <td>23814</td>\n",
       "      <td>Fantastic Beasts: The Crimes of Grindelwald</td>\n",
       "      <td>48.51</td>\n",
       "    </tr>\n",
       "    <tr>\n",
       "      <td>23815</td>\n",
       "      <td>Ralph Breaks the Internet</td>\n",
       "      <td>48.06</td>\n",
       "    </tr>\n",
       "    <tr>\n",
       "      <td>20618</td>\n",
       "      <td>Spider-Man: Homecoming</td>\n",
       "      <td>46.77</td>\n",
       "    </tr>\n",
       "  </tbody>\n",
       "</table>\n",
       "</div>"
      ],
      "text/plain": [
       "                                    original_title  popularity\n",
       "23811                       Avengers: Infinity War       80.77\n",
       "11019                                    John Wick       78.12\n",
       "23812            Spider-Man: Into the Spider-Verse       60.53\n",
       "11020    The Hobbit: The Battle of the Five Armies       53.78\n",
       "5179                                  The Avengers       50.29\n",
       "11021                      Guardians of the Galaxy       49.61\n",
       "20617                            Blade Runner 2049       48.57\n",
       "23814  Fantastic Beasts: The Crimes of Grindelwald       48.51\n",
       "23815                    Ralph Breaks the Internet       48.06\n",
       "20618                       Spider-Man: Homecoming       46.77"
      ]
     },
     "metadata": {},
     "output_type": "display_data"
    }
   ],
   "source": [
    "top_10_popularity = filtered_tmdb_movies.loc[:,['original_title'\n",
    "                                                ,'popularity']].sort_values(by='popularity',\n",
    "                                                                            ascending=False).head(10)\n",
    "display(top_10_popularity)"
   ]
  },
  {
   "cell_type": "markdown",
   "metadata": {},
   "source": [
    "### Merged the Top 10 Popularity to get the Genres from IMDB Title Basics"
   ]
  },
  {
   "cell_type": "code",
   "execution_count": 1402,
   "metadata": {},
   "outputs": [
    {
     "data": {
      "text/html": [
       "<div>\n",
       "<style scoped>\n",
       "    .dataframe tbody tr th:only-of-type {\n",
       "        vertical-align: middle;\n",
       "    }\n",
       "\n",
       "    .dataframe tbody tr th {\n",
       "        vertical-align: top;\n",
       "    }\n",
       "\n",
       "    .dataframe thead th {\n",
       "        text-align: right;\n",
       "    }\n",
       "</style>\n",
       "<table border=\"1\" class=\"dataframe\">\n",
       "  <thead>\n",
       "    <tr style=\"text-align: right;\">\n",
       "      <th></th>\n",
       "      <th>original_title</th>\n",
       "      <th>popularity</th>\n",
       "      <th>tconst</th>\n",
       "      <th>primary_title</th>\n",
       "      <th>start_year</th>\n",
       "      <th>runtime_minutes</th>\n",
       "      <th>genres</th>\n",
       "    </tr>\n",
       "  </thead>\n",
       "  <tbody>\n",
       "    <tr>\n",
       "      <td>0</td>\n",
       "      <td>Avengers: Infinity War</td>\n",
       "      <td>80.77</td>\n",
       "      <td>tt4154756</td>\n",
       "      <td>Avengers: Infinity War</td>\n",
       "      <td>2018</td>\n",
       "      <td>149.00</td>\n",
       "      <td>Action,Adventure,Sci-Fi</td>\n",
       "    </tr>\n",
       "    <tr>\n",
       "      <td>1</td>\n",
       "      <td>John Wick</td>\n",
       "      <td>78.12</td>\n",
       "      <td>tt2911666</td>\n",
       "      <td>John Wick</td>\n",
       "      <td>2014</td>\n",
       "      <td>101.00</td>\n",
       "      <td>Action,Crime,Thriller</td>\n",
       "    </tr>\n",
       "    <tr>\n",
       "      <td>2</td>\n",
       "      <td>Spider-Man: Into the Spider-Verse</td>\n",
       "      <td>60.53</td>\n",
       "      <td>tt4633694</td>\n",
       "      <td>Spider-Man: Into the Spider-Verse</td>\n",
       "      <td>2018</td>\n",
       "      <td>117.00</td>\n",
       "      <td>Action,Adventure,Animation</td>\n",
       "    </tr>\n",
       "    <tr>\n",
       "      <td>3</td>\n",
       "      <td>The Hobbit: The Battle of the Five Armies</td>\n",
       "      <td>53.78</td>\n",
       "      <td>tt2310332</td>\n",
       "      <td>The Hobbit: The Battle of the Five Armies</td>\n",
       "      <td>2014</td>\n",
       "      <td>144.00</td>\n",
       "      <td>Adventure,Fantasy</td>\n",
       "    </tr>\n",
       "    <tr>\n",
       "      <td>4</td>\n",
       "      <td>The Avengers</td>\n",
       "      <td>50.29</td>\n",
       "      <td>tt0848228</td>\n",
       "      <td>The Avengers</td>\n",
       "      <td>2012</td>\n",
       "      <td>143.00</td>\n",
       "      <td>Action,Adventure,Sci-Fi</td>\n",
       "    </tr>\n",
       "    <tr>\n",
       "      <td>5</td>\n",
       "      <td>Guardians of the Galaxy</td>\n",
       "      <td>49.61</td>\n",
       "      <td>tt2015381</td>\n",
       "      <td>Guardians of the Galaxy</td>\n",
       "      <td>2014</td>\n",
       "      <td>121.00</td>\n",
       "      <td>Action,Adventure,Comedy</td>\n",
       "    </tr>\n",
       "    <tr>\n",
       "      <td>6</td>\n",
       "      <td>Blade Runner 2049</td>\n",
       "      <td>48.57</td>\n",
       "      <td>tt1856101</td>\n",
       "      <td>Blade Runner 2049</td>\n",
       "      <td>2017</td>\n",
       "      <td>164.00</td>\n",
       "      <td>Drama,Mystery,Sci-Fi</td>\n",
       "    </tr>\n",
       "    <tr>\n",
       "      <td>7</td>\n",
       "      <td>Fantastic Beasts: The Crimes of Grindelwald</td>\n",
       "      <td>48.51</td>\n",
       "      <td>tt4123430</td>\n",
       "      <td>Fantastic Beasts: The Crimes of Grindelwald</td>\n",
       "      <td>2018</td>\n",
       "      <td>134.00</td>\n",
       "      <td>Adventure,Family,Fantasy</td>\n",
       "    </tr>\n",
       "    <tr>\n",
       "      <td>8</td>\n",
       "      <td>Ralph Breaks the Internet</td>\n",
       "      <td>48.06</td>\n",
       "      <td>tt5848272</td>\n",
       "      <td>Ralph Breaks the Internet</td>\n",
       "      <td>2018</td>\n",
       "      <td>112.00</td>\n",
       "      <td>Adventure,Animation,Comedy</td>\n",
       "    </tr>\n",
       "    <tr>\n",
       "      <td>9</td>\n",
       "      <td>Spider-Man: Homecoming</td>\n",
       "      <td>46.77</td>\n",
       "      <td>tt2250912</td>\n",
       "      <td>Spider-Man: Homecoming</td>\n",
       "      <td>2017</td>\n",
       "      <td>133.00</td>\n",
       "      <td>Action,Adventure,Sci-Fi</td>\n",
       "    </tr>\n",
       "  </tbody>\n",
       "</table>\n",
       "</div>"
      ],
      "text/plain": [
       "                                original_title  popularity     tconst  \\\n",
       "0                       Avengers: Infinity War       80.77  tt4154756   \n",
       "1                                    John Wick       78.12  tt2911666   \n",
       "2            Spider-Man: Into the Spider-Verse       60.53  tt4633694   \n",
       "3    The Hobbit: The Battle of the Five Armies       53.78  tt2310332   \n",
       "4                                 The Avengers       50.29  tt0848228   \n",
       "5                      Guardians of the Galaxy       49.61  tt2015381   \n",
       "6                            Blade Runner 2049       48.57  tt1856101   \n",
       "7  Fantastic Beasts: The Crimes of Grindelwald       48.51  tt4123430   \n",
       "8                    Ralph Breaks the Internet       48.06  tt5848272   \n",
       "9                       Spider-Man: Homecoming       46.77  tt2250912   \n",
       "\n",
       "                                 primary_title  start_year  runtime_minutes  \\\n",
       "0                       Avengers: Infinity War        2018           149.00   \n",
       "1                                    John Wick        2014           101.00   \n",
       "2            Spider-Man: Into the Spider-Verse        2018           117.00   \n",
       "3    The Hobbit: The Battle of the Five Armies        2014           144.00   \n",
       "4                                 The Avengers        2012           143.00   \n",
       "5                      Guardians of the Galaxy        2014           121.00   \n",
       "6                            Blade Runner 2049        2017           164.00   \n",
       "7  Fantastic Beasts: The Crimes of Grindelwald        2018           134.00   \n",
       "8                    Ralph Breaks the Internet        2018           112.00   \n",
       "9                       Spider-Man: Homecoming        2017           133.00   \n",
       "\n",
       "                       genres  \n",
       "0     Action,Adventure,Sci-Fi  \n",
       "1       Action,Crime,Thriller  \n",
       "2  Action,Adventure,Animation  \n",
       "3           Adventure,Fantasy  \n",
       "4     Action,Adventure,Sci-Fi  \n",
       "5     Action,Adventure,Comedy  \n",
       "6        Drama,Mystery,Sci-Fi  \n",
       "7    Adventure,Family,Fantasy  \n",
       "8  Adventure,Animation,Comedy  \n",
       "9     Action,Adventure,Sci-Fi  "
      ]
     },
     "execution_count": 1402,
     "metadata": {},
     "output_type": "execute_result"
    }
   ],
   "source": [
    "imdb_title_basics = pd.read_csv('zippedData/imdb.title.basics.csv.gz', \n",
    "                                compression='gzip', \n",
    "                                header=0, \n",
    "                                sep=',', \n",
    "                                quotechar='\"', \n",
    "                                error_bad_lines=False)\n",
    "\n",
    "top_10_popularity_genre = pd.merge(top_10_popularity, imdb_title_basics, \n",
    "                how='inner', right_on=['original_title'], left_on=['original_title'])\n",
    "top_10_popularity_genre"
   ]
  },
  {
   "cell_type": "code",
   "execution_count": 1403,
   "metadata": {},
   "outputs": [
    {
     "data": {
      "text/plain": [
       "Text(0.5, 0, 'Gross Profit (In Billions)')"
      ]
     },
     "execution_count": 1403,
     "metadata": {},
     "output_type": "execute_result"
    },
    {
     "data": {
      "image/png": "[encoded data removed]",
      "text/plain": [
       "<Figure size 1080x432 with 1 Axes>"
      ]
     },
     "metadata": {},
     "output_type": "display_data"
    }
   ],
   "source": [
    "plt.figure(figsize=(15,6))\n",
    "plt.barh(top_10_popularity['original_title'],top_10_popularity['popularity'],color='lightblue')\n",
    "\n",
    "plt.title('Top 10 Movies with the Highest Popularity (2010-2020)',fontsize=20)\n",
    "plt.xlabel('Gross Profit (In Billions)')"
   ]
  },
  {
   "cell_type": "markdown",
   "metadata": {},
   "source": [
    "### Top 10 Most Highly Rated Movies 2010 - 2020"
   ]
  },
  {
   "cell_type": "code",
   "execution_count": 1404,
   "metadata": {},
   "outputs": [
    {
     "data": {
      "text/html": [
       "<div>\n",
       "<style scoped>\n",
       "    .dataframe tbody tr th:only-of-type {\n",
       "        vertical-align: middle;\n",
       "    }\n",
       "\n",
       "    .dataframe tbody tr th {\n",
       "        vertical-align: top;\n",
       "    }\n",
       "\n",
       "    .dataframe thead th {\n",
       "        text-align: right;\n",
       "    }\n",
       "</style>\n",
       "<table border=\"1\" class=\"dataframe\">\n",
       "  <thead>\n",
       "    <tr style=\"text-align: right;\">\n",
       "      <th></th>\n",
       "      <th>original_title</th>\n",
       "      <th>vote_average</th>\n",
       "    </tr>\n",
       "  </thead>\n",
       "  <tbody>\n",
       "    <tr>\n",
       "      <td>17389</td>\n",
       "      <td>君の名は。</td>\n",
       "      <td>8.60</td>\n",
       "    </tr>\n",
       "    <tr>\n",
       "      <td>11031</td>\n",
       "      <td>Whiplash</td>\n",
       "      <td>8.40</td>\n",
       "    </tr>\n",
       "    <tr>\n",
       "      <td>23899</td>\n",
       "      <td>کفرناحوم</td>\n",
       "      <td>8.40</td>\n",
       "    </tr>\n",
       "    <tr>\n",
       "      <td>23812</td>\n",
       "      <td>Spider-Man: Into the Spider-Verse</td>\n",
       "      <td>8.40</td>\n",
       "    </tr>\n",
       "    <tr>\n",
       "      <td>21008</td>\n",
       "      <td>In a Heartbeat</td>\n",
       "      <td>8.30</td>\n",
       "    </tr>\n",
       "    <tr>\n",
       "      <td>23827</td>\n",
       "      <td>Green Book</td>\n",
       "      <td>8.30</td>\n",
       "    </tr>\n",
       "    <tr>\n",
       "      <td>24056</td>\n",
       "      <td>Won't You Be My Neighbor?</td>\n",
       "      <td>8.30</td>\n",
       "    </tr>\n",
       "    <tr>\n",
       "      <td>17466</td>\n",
       "      <td>아가씨</td>\n",
       "      <td>8.30</td>\n",
       "    </tr>\n",
       "    <tr>\n",
       "      <td>11142</td>\n",
       "      <td>Mommy</td>\n",
       "      <td>8.30</td>\n",
       "    </tr>\n",
       "    <tr>\n",
       "      <td>23811</td>\n",
       "      <td>Avengers: Infinity War</td>\n",
       "      <td>8.30</td>\n",
       "    </tr>\n",
       "  </tbody>\n",
       "</table>\n",
       "</div>"
      ],
      "text/plain": [
       "                          original_title  vote_average\n",
       "17389                              君の名は。          8.60\n",
       "11031                           Whiplash          8.40\n",
       "23899                           کفرناحوم          8.40\n",
       "23812  Spider-Man: Into the Spider-Verse          8.40\n",
       "21008                     In a Heartbeat          8.30\n",
       "23827                         Green Book          8.30\n",
       "24056          Won't You Be My Neighbor?          8.30\n",
       "17466                                아가씨          8.30\n",
       "11142                              Mommy          8.30\n",
       "23811             Avengers: Infinity War          8.30"
      ]
     },
     "metadata": {},
     "output_type": "display_data"
    }
   ],
   "source": [
    "top_10_vote_average = filtered_tmdb_movies.loc[:,['original_title',\n",
    "                                                  'vote_average']].sort_values(by='vote_average',\n",
    "                                                                               ascending=False).head(10)\n",
    "display(top_10_vote_average)"
   ]
  },
  {
   "cell_type": "markdown",
   "metadata": {},
   "source": [
    "### Merged the Top 10 Highest Rated to get the Genres from IMDB Title Basics"
   ]
  },
  {
   "cell_type": "code",
   "execution_count": 1405,
   "metadata": {},
   "outputs": [
    {
     "data": {
      "text/html": [
       "<div>\n",
       "<style scoped>\n",
       "    .dataframe tbody tr th:only-of-type {\n",
       "        vertical-align: middle;\n",
       "    }\n",
       "\n",
       "    .dataframe tbody tr th {\n",
       "        vertical-align: top;\n",
       "    }\n",
       "\n",
       "    .dataframe thead th {\n",
       "        text-align: right;\n",
       "    }\n",
       "</style>\n",
       "<table border=\"1\" class=\"dataframe\">\n",
       "  <thead>\n",
       "    <tr style=\"text-align: right;\">\n",
       "      <th></th>\n",
       "      <th>original_title</th>\n",
       "      <th>vote_average</th>\n",
       "      <th>tconst</th>\n",
       "      <th>primary_title</th>\n",
       "      <th>start_year</th>\n",
       "      <th>runtime_minutes</th>\n",
       "      <th>genres</th>\n",
       "    </tr>\n",
       "  </thead>\n",
       "  <tbody>\n",
       "    <tr>\n",
       "      <td>0</td>\n",
       "      <td>Whiplash</td>\n",
       "      <td>8.40</td>\n",
       "      <td>tt2582802</td>\n",
       "      <td>Whiplash</td>\n",
       "      <td>2014</td>\n",
       "      <td>106.00</td>\n",
       "      <td>Drama,Music</td>\n",
       "    </tr>\n",
       "    <tr>\n",
       "      <td>1</td>\n",
       "      <td>Spider-Man: Into the Spider-Verse</td>\n",
       "      <td>8.40</td>\n",
       "      <td>tt4633694</td>\n",
       "      <td>Spider-Man: Into the Spider-Verse</td>\n",
       "      <td>2018</td>\n",
       "      <td>117.00</td>\n",
       "      <td>Action,Adventure,Animation</td>\n",
       "    </tr>\n",
       "    <tr>\n",
       "      <td>2</td>\n",
       "      <td>In a Heartbeat</td>\n",
       "      <td>8.30</td>\n",
       "      <td>tt2622988</td>\n",
       "      <td>In a Heartbeat</td>\n",
       "      <td>2014</td>\n",
       "      <td>106.00</td>\n",
       "      <td>Horror,Mystery,Romance</td>\n",
       "    </tr>\n",
       "    <tr>\n",
       "      <td>3</td>\n",
       "      <td>Green Book</td>\n",
       "      <td>8.30</td>\n",
       "      <td>tt6966692</td>\n",
       "      <td>Green Book</td>\n",
       "      <td>2018</td>\n",
       "      <td>130.00</td>\n",
       "      <td>Biography,Comedy,Drama</td>\n",
       "    </tr>\n",
       "    <tr>\n",
       "      <td>4</td>\n",
       "      <td>Won't You Be My Neighbor?</td>\n",
       "      <td>8.30</td>\n",
       "      <td>tt7681902</td>\n",
       "      <td>Won't You Be My Neighbor?</td>\n",
       "      <td>2018</td>\n",
       "      <td>94.00</td>\n",
       "      <td>Biography,Documentary</td>\n",
       "    </tr>\n",
       "    <tr>\n",
       "      <td>5</td>\n",
       "      <td>Mommy</td>\n",
       "      <td>8.30</td>\n",
       "      <td>tt3612616</td>\n",
       "      <td>Mommy</td>\n",
       "      <td>2014</td>\n",
       "      <td>139.00</td>\n",
       "      <td>Drama</td>\n",
       "    </tr>\n",
       "    <tr>\n",
       "      <td>6</td>\n",
       "      <td>Mommy</td>\n",
       "      <td>8.30</td>\n",
       "      <td>tt5152894</td>\n",
       "      <td>Mommy</td>\n",
       "      <td>2015</td>\n",
       "      <td>135.00</td>\n",
       "      <td>Drama</td>\n",
       "    </tr>\n",
       "    <tr>\n",
       "      <td>7</td>\n",
       "      <td>Avengers: Infinity War</td>\n",
       "      <td>8.30</td>\n",
       "      <td>tt4154756</td>\n",
       "      <td>Avengers: Infinity War</td>\n",
       "      <td>2018</td>\n",
       "      <td>149.00</td>\n",
       "      <td>Action,Adventure,Sci-Fi</td>\n",
       "    </tr>\n",
       "  </tbody>\n",
       "</table>\n",
       "</div>"
      ],
      "text/plain": [
       "                      original_title  vote_average     tconst  \\\n",
       "0                           Whiplash          8.40  tt2582802   \n",
       "1  Spider-Man: Into the Spider-Verse          8.40  tt4633694   \n",
       "2                     In a Heartbeat          8.30  tt2622988   \n",
       "3                         Green Book          8.30  tt6966692   \n",
       "4          Won't You Be My Neighbor?          8.30  tt7681902   \n",
       "5                              Mommy          8.30  tt3612616   \n",
       "6                              Mommy          8.30  tt5152894   \n",
       "7             Avengers: Infinity War          8.30  tt4154756   \n",
       "\n",
       "                       primary_title  start_year  runtime_minutes  \\\n",
       "0                           Whiplash        2014           106.00   \n",
       "1  Spider-Man: Into the Spider-Verse        2018           117.00   \n",
       "2                     In a Heartbeat        2014           106.00   \n",
       "3                         Green Book        2018           130.00   \n",
       "4          Won't You Be My Neighbor?        2018            94.00   \n",
       "5                              Mommy        2014           139.00   \n",
       "6                              Mommy        2015           135.00   \n",
       "7             Avengers: Infinity War        2018           149.00   \n",
       "\n",
       "                       genres  \n",
       "0                 Drama,Music  \n",
       "1  Action,Adventure,Animation  \n",
       "2      Horror,Mystery,Romance  \n",
       "3      Biography,Comedy,Drama  \n",
       "4       Biography,Documentary  \n",
       "5                       Drama  \n",
       "6                       Drama  \n",
       "7     Action,Adventure,Sci-Fi  "
      ]
     },
     "execution_count": 1405,
     "metadata": {},
     "output_type": "execute_result"
    }
   ],
   "source": [
    "imdb_title_basics = pd.read_csv('zippedData/imdb.title.basics.csv.gz', \n",
    "                                compression='gzip', \n",
    "                                header=0, \n",
    "                                sep=',', \n",
    "                                quotechar='\"', \n",
    "                                error_bad_lines=False)\n",
    "\n",
    "top_10_voteaverage_genre = pd.merge(top_10_vote_average, imdb_title_basics, \n",
    "                how='inner', right_on=['original_title'], left_on=['original_title'])\n",
    "top_10_voteaverage_genre"
   ]
  },
  {
   "cell_type": "code",
   "execution_count": 1429,
   "metadata": {},
   "outputs": [
    {
     "data": {
      "text/plain": [
       "Text(0.5, 0, 'Gross Profit (In Billions)')"
      ]
     },
     "execution_count": 1429,
     "metadata": {},
     "output_type": "execute_result"
    },
    {
     "data": {
      "image/png": "[encoded data removed]",
      "text/plain": [
       "<Figure size 1080x432 with 1 Axes>"
      ]
     },
     "metadata": {},
     "output_type": "display_data"
    }
   ],
   "source": [
    "plt.figure(figsize=(15,6))\n",
    "plt.barh(top_10_vote_average['original_title'],top_10_vote_average['vote_average'],color='red')\n",
    "\n",
    "plt.title('Top 10 Movies with the Highest Vote Average (2010-2020)',fontsize=20)\n",
    "plt.xlabel('Gross Profit (In Billions)')"
   ]
  },
  {
   "cell_type": "code",
   "execution_count": 1407,
   "metadata": {
    "scrolled": true
   },
   "outputs": [],
   "source": [
    "## Subplots for Most Popular and Highly Rated Movies 2010-2020\n",
    "\n",
    "# new_figure = plt.figure(figsize=(20,6))\n",
    "\n",
    "# ax = new_figure.add_subplot(121)\n",
    "# ax2 = new_figure.add_subplot(122)\n",
    "\n",
    "# ax.barh(top_10_popularity['original_title'],top_10_popularity['popularity'] , color='lightblue')\n",
    "# ax2.barh(top_10_vote_average['original_title'],top_10_vote_average['vote_average'], color='red')\n",
    "\n",
    "# ax.set_xlim(0,100)\n",
    "# ax.set_xlabel('Popularity',fontsize=15)\n",
    "# ax.set_title('Top 10 Popular Movies (2010-2020)',fontsize=20)\n",
    "\n",
    "\n",
    "# ax2.set_xlim(0,10)\n",
    "# ax2.set_xlabel('Vote Average',fontsize=15)\n",
    "# ax2.set_title('Top 10 Highest Rated Movies (2010-2020)',fontsize=20)\n",
    "\n",
    "# plt.tight_layout()\n",
    "# plt.show()"
   ]
  },
  {
   "cell_type": "code",
   "execution_count": 1408,
   "metadata": {},
   "outputs": [
    {
     "data": {
      "image/png": "[encoded data removed]",
      "text/plain": [
       "<Figure size 1080x720 with 1 Axes>"
      ]
     },
     "metadata": {},
     "output_type": "display_data"
    }
   ],
   "source": [
    "sns.set_style({'grid.color':'black',\n",
    "               'axes.facecolor':'white',\n",
    "               'figure.facecolor':'white',\n",
    "               'axes.edgecolor':'black',\n",
    "               'axes.labelcolor':'black',\n",
    "               'xtick.color':'black',\n",
    "               'ytick.color':'black'})\n",
    "plt.figure(figsize=(15,10))\n",
    "sns.regplot(x='popularity',y='vote_average',data=filtered_tmdb_movies)\n",
    "plt.title('Relationship between Vote Average and Popularity for Movies (2010 - 2020)',fontsize=20)\n",
    "plt.xlabel('Popularity',fontsize=15)\n",
    "plt.ylabel('Vote Average',fontsize=15)\n",
    "plt.show()\n"
   ]
  },
  {
   "cell_type": "code",
   "execution_count": 1409,
   "metadata": {},
   "outputs": [
    {
     "data": {
      "text/plain": [
       "0.21661176140359314"
      ]
     },
     "execution_count": 1409,
     "metadata": {},
     "output_type": "execute_result"
    }
   ],
   "source": [
    "correlation = filtered_tmdb_movies['popularity'].corr(filtered_tmdb_movies['vote_average'])\n",
    "correlation"
   ]
  },
  {
   "cell_type": "markdown",
   "metadata": {},
   "source": [
    "### Q2  - Conclusion"
   ]
  },
  {
   "cell_type": "markdown",
   "metadata": {},
   "source": [
    "Based on the popularity results, majority of the most popular movies are Action and Adventure movies. Action, Adventure movies is the best genre to release. As for the highest rated average results, majority of the highest rated movies are foreign films and Drama genre. If we're looking to create a film in a foreign country, Drama is the best genre to release.\n",
    "\n",
    "When we looked at the correlation between Vote Average and Popularity, there was no correlation (0.22). For example, a popular movie does not necessarily lead to a highly rated movie but it can happen."
   ]
  },
  {
   "cell_type": "markdown",
   "metadata": {},
   "source": [
    "# Q3 - What are the top 10 movies with the highest gross profit margin? Is there a relationship between Popularity and Profit Margin?"
   ]
  },
  {
   "cell_type": "markdown",
   "metadata": {},
   "source": [
    "### Import The Numbers Movie Budget Dataset"
   ]
  },
  {
   "cell_type": "code",
   "execution_count": 1410,
   "metadata": {},
   "outputs": [],
   "source": [
    "tn_movie_budgets = pd.read_csv('zippedData/tn.movie_budgets.csv.gz', \n",
    "                               compression='gzip', \n",
    "                               header=0, \n",
    "                               sep=',', \n",
    "                               quotechar='\"', \n",
    "                               error_bad_lines=False)"
   ]
  },
  {
   "cell_type": "markdown",
   "metadata": {},
   "source": [
    "### Cleaning the Data"
   ]
  },
  {
   "cell_type": "code",
   "execution_count": 1411,
   "metadata": {},
   "outputs": [],
   "source": [
    "# we needed to convert the object columns (budget and gross) into integer values\n",
    "# cleaned the object columns by removing the $ and , from each column\n",
    "tn_movie_budgets['production_budget'] = tn_movie_budgets['production_budget'].str.replace('$','').str.replace(',','').astype({'production_budget': 'int64'})\n",
    "tn_movie_budgets['domestic_gross'] = tn_movie_budgets['domestic_gross'].str.replace('$','').str.replace(',','').astype({'domestic_gross': 'int64'})\n",
    "tn_movie_budgets['worldwide_gross'] = tn_movie_budgets['worldwide_gross'].str.replace('$','').str.replace(',','').astype({'worldwide_gross': 'int64'})\n"
   ]
  },
  {
   "cell_type": "markdown",
   "metadata": {},
   "source": [
    "### Created New Column to Find the Gross Profit Margin"
   ]
  },
  {
   "cell_type": "code",
   "execution_count": 1412,
   "metadata": {
    "scrolled": true
   },
   "outputs": [
    {
     "data": {
      "text/html": [
       "<div>\n",
       "<style scoped>\n",
       "    .dataframe tbody tr th:only-of-type {\n",
       "        vertical-align: middle;\n",
       "    }\n",
       "\n",
       "    .dataframe tbody tr th {\n",
       "        vertical-align: top;\n",
       "    }\n",
       "\n",
       "    .dataframe thead th {\n",
       "        text-align: right;\n",
       "    }\n",
       "</style>\n",
       "<table border=\"1\" class=\"dataframe\">\n",
       "  <thead>\n",
       "    <tr style=\"text-align: right;\">\n",
       "      <th></th>\n",
       "      <th>id</th>\n",
       "      <th>release_date</th>\n",
       "      <th>movie</th>\n",
       "      <th>production_budget</th>\n",
       "      <th>domestic_gross</th>\n",
       "      <th>worldwide_gross</th>\n",
       "      <th>gross_profit</th>\n",
       "    </tr>\n",
       "  </thead>\n",
       "  <tbody>\n",
       "    <tr>\n",
       "      <td>0</td>\n",
       "      <td>1</td>\n",
       "      <td>Dec 18, 2009</td>\n",
       "      <td>Avatar</td>\n",
       "      <td>425000000</td>\n",
       "      <td>760507625</td>\n",
       "      <td>2776345279</td>\n",
       "      <td>2351345279</td>\n",
       "    </tr>\n",
       "    <tr>\n",
       "      <td>1</td>\n",
       "      <td>2</td>\n",
       "      <td>May 20, 2011</td>\n",
       "      <td>Pirates of the Caribbean: On Stranger Tides</td>\n",
       "      <td>410600000</td>\n",
       "      <td>241063875</td>\n",
       "      <td>1045663875</td>\n",
       "      <td>635063875</td>\n",
       "    </tr>\n",
       "    <tr>\n",
       "      <td>2</td>\n",
       "      <td>3</td>\n",
       "      <td>Jun 7, 2019</td>\n",
       "      <td>Dark Phoenix</td>\n",
       "      <td>350000000</td>\n",
       "      <td>42762350</td>\n",
       "      <td>149762350</td>\n",
       "      <td>-200237650</td>\n",
       "    </tr>\n",
       "    <tr>\n",
       "      <td>3</td>\n",
       "      <td>4</td>\n",
       "      <td>May 1, 2015</td>\n",
       "      <td>Avengers: Age of Ultron</td>\n",
       "      <td>330600000</td>\n",
       "      <td>459005868</td>\n",
       "      <td>1403013963</td>\n",
       "      <td>1072413963</td>\n",
       "    </tr>\n",
       "    <tr>\n",
       "      <td>4</td>\n",
       "      <td>5</td>\n",
       "      <td>Dec 15, 2017</td>\n",
       "      <td>Star Wars Ep. VIII: The Last Jedi</td>\n",
       "      <td>317000000</td>\n",
       "      <td>620181382</td>\n",
       "      <td>1316721747</td>\n",
       "      <td>999721747</td>\n",
       "    </tr>\n",
       "  </tbody>\n",
       "</table>\n",
       "</div>"
      ],
      "text/plain": [
       "   id  release_date                                        movie  \\\n",
       "0   1  Dec 18, 2009                                       Avatar   \n",
       "1   2  May 20, 2011  Pirates of the Caribbean: On Stranger Tides   \n",
       "2   3   Jun 7, 2019                                 Dark Phoenix   \n",
       "3   4   May 1, 2015                      Avengers: Age of Ultron   \n",
       "4   5  Dec 15, 2017            Star Wars Ep. VIII: The Last Jedi   \n",
       "\n",
       "   production_budget  domestic_gross  worldwide_gross  gross_profit  \n",
       "0          425000000       760507625       2776345279    2351345279  \n",
       "1          410600000       241063875       1045663875     635063875  \n",
       "2          350000000        42762350        149762350    -200237650  \n",
       "3          330600000       459005868       1403013963    1072413963  \n",
       "4          317000000       620181382       1316721747     999721747  "
      ]
     },
     "execution_count": 1412,
     "metadata": {},
     "output_type": "execute_result"
    }
   ],
   "source": [
    "tn_movie_budgets['gross_profit'] = tn_movie_budgets['worldwide_gross'] - tn_movie_budgets['production_budget']\n",
    "tn_movie_budgets.head()"
   ]
  },
  {
   "cell_type": "markdown",
   "metadata": {},
   "source": [
    "### Filtered Data to Release Date After 2010"
   ]
  },
  {
   "cell_type": "code",
   "execution_count": 1413,
   "metadata": {},
   "outputs": [],
   "source": [
    "def change(x):\n",
    "    return datetime.datetime.strptime(x,'%b %d %Y').strftime('%Y-%m-%d')"
   ]
  },
  {
   "cell_type": "code",
   "execution_count": 1414,
   "metadata": {},
   "outputs": [],
   "source": [
    "tn_movie_budgets['release_date'] = tn_movie_budgets['release_date'].str.replace(',','').apply(change)\n",
    "tn_movie_budgets = tn_movie_budgets.loc[tn_movie_budgets['release_date'] > '2010-01-01'] "
   ]
  },
  {
   "cell_type": "markdown",
   "metadata": {},
   "source": [
    "### Removed Duplicates"
   ]
  },
  {
   "cell_type": "code",
   "execution_count": 1415,
   "metadata": {
    "scrolled": true
   },
   "outputs": [
    {
     "name": "stdout",
     "output_type": "stream",
     "text": [
      "Number of Duplicates: 4\n"
     ]
    }
   ],
   "source": [
    "#Find the total number of duplicates based on title\n",
    "print('Number of Duplicates:', tn_movie_budgets['movie'].duplicated().sum())"
   ]
  },
  {
   "cell_type": "code",
   "execution_count": 1416,
   "metadata": {},
   "outputs": [
    {
     "name": "stdout",
     "output_type": "stream",
     "text": [
      "Duplicates Remaining: 0\n"
     ]
    }
   ],
   "source": [
    "#Drop duplicates\n",
    "tn_movie_budgets.drop_duplicates(inplace=True)\n",
    "\n",
    "#Check duplicates were dropped\n",
    "print('Duplicates Remaining:', tn_movie_budgets.duplicated().sum())"
   ]
  },
  {
   "cell_type": "markdown",
   "metadata": {},
   "source": [
    "### Merge the TMDB Database with TN Movie Budget Database"
   ]
  },
  {
   "cell_type": "code",
   "execution_count": 1417,
   "metadata": {
    "scrolled": true
   },
   "outputs": [],
   "source": [
    "merged_data = pd.merge(filtered_tmdb_movies, tn_movie_budgets, \n",
    "                how='inner', right_on=['movie','release_date'], left_on=['original_title','release_date'])"
   ]
  },
  {
   "cell_type": "code",
   "execution_count": 1418,
   "metadata": {},
   "outputs": [
    {
     "name": "stdout",
     "output_type": "stream",
     "text": [
      "Number of Duplicates: 1\n"
     ]
    }
   ],
   "source": [
    "#count of duplicates after joining\n",
    "print('Number of Duplicates:', merged_data['original_title'].duplicated().sum())"
   ]
  },
  {
   "cell_type": "code",
   "execution_count": 1419,
   "metadata": {},
   "outputs": [
    {
     "name": "stdout",
     "output_type": "stream",
     "text": [
      "Duplicates Remaining: 0\n"
     ]
    }
   ],
   "source": [
    "merged_data['original_title'].drop_duplicates(inplace=True)\n",
    "print('Duplicates Remaining:', merged_data['original_title'].duplicated().sum())"
   ]
  },
  {
   "cell_type": "code",
   "execution_count": 1420,
   "metadata": {},
   "outputs": [
    {
     "data": {
      "text/html": [
       "<div>\n",
       "<style scoped>\n",
       "    .dataframe tbody tr th:only-of-type {\n",
       "        vertical-align: middle;\n",
       "    }\n",
       "\n",
       "    .dataframe tbody tr th {\n",
       "        vertical-align: top;\n",
       "    }\n",
       "\n",
       "    .dataframe thead th {\n",
       "        text-align: right;\n",
       "    }\n",
       "</style>\n",
       "<table border=\"1\" class=\"dataframe\">\n",
       "  <thead>\n",
       "    <tr style=\"text-align: right;\">\n",
       "      <th></th>\n",
       "      <th>original_title</th>\n",
       "      <th>popularity</th>\n",
       "      <th>vote_average</th>\n",
       "      <th>release_date</th>\n",
       "      <th>id</th>\n",
       "      <th>movie</th>\n",
       "      <th>production_budget</th>\n",
       "      <th>domestic_gross</th>\n",
       "      <th>worldwide_gross</th>\n",
       "      <th>gross_profit</th>\n",
       "    </tr>\n",
       "  </thead>\n",
       "  <tbody>\n",
       "    <tr>\n",
       "      <td>0</td>\n",
       "      <td>How to Train Your Dragon</td>\n",
       "      <td>28.73</td>\n",
       "      <td>7.70</td>\n",
       "      <td>2010-03-26</td>\n",
       "      <td>30</td>\n",
       "      <td>How to Train Your Dragon</td>\n",
       "      <td>165000000</td>\n",
       "      <td>217581232</td>\n",
       "      <td>494870992</td>\n",
       "      <td>329870992</td>\n",
       "    </tr>\n",
       "    <tr>\n",
       "      <td>1</td>\n",
       "      <td>Iron Man 2</td>\n",
       "      <td>28.52</td>\n",
       "      <td>6.80</td>\n",
       "      <td>2010-05-07</td>\n",
       "      <td>15</td>\n",
       "      <td>Iron Man 2</td>\n",
       "      <td>170000000</td>\n",
       "      <td>312433331</td>\n",
       "      <td>621156389</td>\n",
       "      <td>451156389</td>\n",
       "    </tr>\n",
       "    <tr>\n",
       "      <td>2</td>\n",
       "      <td>Inception</td>\n",
       "      <td>27.92</td>\n",
       "      <td>8.30</td>\n",
       "      <td>2010-07-16</td>\n",
       "      <td>38</td>\n",
       "      <td>Inception</td>\n",
       "      <td>160000000</td>\n",
       "      <td>292576195</td>\n",
       "      <td>835524642</td>\n",
       "      <td>675524642</td>\n",
       "    </tr>\n",
       "    <tr>\n",
       "      <td>3</td>\n",
       "      <td>Despicable Me</td>\n",
       "      <td>23.67</td>\n",
       "      <td>7.20</td>\n",
       "      <td>2010-07-09</td>\n",
       "      <td>50</td>\n",
       "      <td>Despicable Me</td>\n",
       "      <td>69000000</td>\n",
       "      <td>251513985</td>\n",
       "      <td>543464573</td>\n",
       "      <td>474464573</td>\n",
       "    </tr>\n",
       "    <tr>\n",
       "      <td>4</td>\n",
       "      <td>Alice in Wonderland</td>\n",
       "      <td>22.02</td>\n",
       "      <td>6.60</td>\n",
       "      <td>2010-03-05</td>\n",
       "      <td>51</td>\n",
       "      <td>Alice in Wonderland</td>\n",
       "      <td>200000000</td>\n",
       "      <td>334191110</td>\n",
       "      <td>1025491110</td>\n",
       "      <td>825491110</td>\n",
       "    </tr>\n",
       "  </tbody>\n",
       "</table>\n",
       "</div>"
      ],
      "text/plain": [
       "             original_title  popularity  vote_average release_date  id  \\\n",
       "0  How to Train Your Dragon       28.73          7.70   2010-03-26  30   \n",
       "1                Iron Man 2       28.52          6.80   2010-05-07  15   \n",
       "2                 Inception       27.92          8.30   2010-07-16  38   \n",
       "3             Despicable Me       23.67          7.20   2010-07-09  50   \n",
       "4       Alice in Wonderland       22.02          6.60   2010-03-05  51   \n",
       "\n",
       "                      movie  production_budget  domestic_gross  \\\n",
       "0  How to Train Your Dragon          165000000       217581232   \n",
       "1                Iron Man 2          170000000       312433331   \n",
       "2                 Inception          160000000       292576195   \n",
       "3             Despicable Me           69000000       251513985   \n",
       "4       Alice in Wonderland          200000000       334191110   \n",
       "\n",
       "   worldwide_gross  gross_profit  \n",
       "0        494870992     329870992  \n",
       "1        621156389     451156389  \n",
       "2        835524642     675524642  \n",
       "3        543464573     474464573  \n",
       "4       1025491110     825491110  "
      ]
     },
     "execution_count": 1420,
     "metadata": {},
     "output_type": "execute_result"
    }
   ],
   "source": [
    "merged_data.head()"
   ]
  },
  {
   "cell_type": "code",
   "execution_count": 1421,
   "metadata": {},
   "outputs": [
    {
     "name": "stdout",
     "output_type": "stream",
     "text": [
      "<class 'pandas.core.frame.DataFrame'>\n",
      "Int64Index: 1028 entries, 0 to 1027\n",
      "Data columns (total 10 columns):\n",
      "original_title       1028 non-null object\n",
      "popularity           1028 non-null float64\n",
      "vote_average         1028 non-null float64\n",
      "release_date         1028 non-null object\n",
      "id                   1028 non-null int64\n",
      "movie                1028 non-null object\n",
      "production_budget    1028 non-null int64\n",
      "domestic_gross       1028 non-null int64\n",
      "worldwide_gross      1028 non-null int64\n",
      "gross_profit         1028 non-null int64\n",
      "dtypes: float64(2), int64(5), object(3)\n",
      "memory usage: 88.3+ KB\n"
     ]
    }
   ],
   "source": [
    "merged_data.info()"
   ]
  },
  {
   "cell_type": "markdown",
   "metadata": {},
   "source": [
    "### Descriptive Statistics for Vote Average and Gross Profit"
   ]
  },
  {
   "cell_type": "code",
   "execution_count": 1422,
   "metadata": {},
   "outputs": [
    {
     "data": {
      "text/html": [
       "<div>\n",
       "<style scoped>\n",
       "    .dataframe tbody tr th:only-of-type {\n",
       "        vertical-align: middle;\n",
       "    }\n",
       "\n",
       "    .dataframe tbody tr th {\n",
       "        vertical-align: top;\n",
       "    }\n",
       "\n",
       "    .dataframe thead th {\n",
       "        text-align: right;\n",
       "    }\n",
       "</style>\n",
       "<table border=\"1\" class=\"dataframe\">\n",
       "  <thead>\n",
       "    <tr style=\"text-align: right;\">\n",
       "      <th></th>\n",
       "      <th>popularity</th>\n",
       "      <th>vote_average</th>\n",
       "      <th>id</th>\n",
       "      <th>production_budget</th>\n",
       "      <th>domestic_gross</th>\n",
       "      <th>worldwide_gross</th>\n",
       "      <th>gross_profit</th>\n",
       "    </tr>\n",
       "  </thead>\n",
       "  <tbody>\n",
       "    <tr>\n",
       "      <td>count</td>\n",
       "      <td>1028.00</td>\n",
       "      <td>1028.00</td>\n",
       "      <td>1028.00</td>\n",
       "      <td>1028.00</td>\n",
       "      <td>1028.00</td>\n",
       "      <td>1028.00</td>\n",
       "      <td>1028.00</td>\n",
       "    </tr>\n",
       "    <tr>\n",
       "      <td>mean</td>\n",
       "      <td>14.77</td>\n",
       "      <td>6.38</td>\n",
       "      <td>51.19</td>\n",
       "      <td>52724594.02</td>\n",
       "      <td>67428142.50</td>\n",
       "      <td>170679620.70</td>\n",
       "      <td>117955026.68</td>\n",
       "    </tr>\n",
       "    <tr>\n",
       "      <td>std</td>\n",
       "      <td>7.98</td>\n",
       "      <td>0.78</td>\n",
       "      <td>28.73</td>\n",
       "      <td>58664335.25</td>\n",
       "      <td>90496828.26</td>\n",
       "      <td>250969660.03</td>\n",
       "      <td>208448622.84</td>\n",
       "    </tr>\n",
       "    <tr>\n",
       "      <td>min</td>\n",
       "      <td>0.60</td>\n",
       "      <td>4.00</td>\n",
       "      <td>1.00</td>\n",
       "      <td>100000.00</td>\n",
       "      <td>0.00</td>\n",
       "      <td>0.00</td>\n",
       "      <td>-110450242.00</td>\n",
       "    </tr>\n",
       "    <tr>\n",
       "      <td>25%</td>\n",
       "      <td>9.61</td>\n",
       "      <td>5.90</td>\n",
       "      <td>26.75</td>\n",
       "      <td>12575000.00</td>\n",
       "      <td>14098195.50</td>\n",
       "      <td>25586094.50</td>\n",
       "      <td>5660857.50</td>\n",
       "    </tr>\n",
       "    <tr>\n",
       "      <td>50%</td>\n",
       "      <td>12.78</td>\n",
       "      <td>6.40</td>\n",
       "      <td>51.00</td>\n",
       "      <td>30000000.00</td>\n",
       "      <td>37536535.50</td>\n",
       "      <td>77127940.50</td>\n",
       "      <td>41992603.00</td>\n",
       "    </tr>\n",
       "    <tr>\n",
       "      <td>75%</td>\n",
       "      <td>17.27</td>\n",
       "      <td>6.90</td>\n",
       "      <td>77.00</td>\n",
       "      <td>68250000.00</td>\n",
       "      <td>79929883.75</td>\n",
       "      <td>197523215.00</td>\n",
       "      <td>128998065.00</td>\n",
       "    </tr>\n",
       "    <tr>\n",
       "      <td>max</td>\n",
       "      <td>80.77</td>\n",
       "      <td>8.40</td>\n",
       "      <td>100.00</td>\n",
       "      <td>410600000.00</td>\n",
       "      <td>700059566.00</td>\n",
       "      <td>2048134200.00</td>\n",
       "      <td>1748134200.00</td>\n",
       "    </tr>\n",
       "  </tbody>\n",
       "</table>\n",
       "</div>"
      ],
      "text/plain": [
       "       popularity  vote_average      id  production_budget  domestic_gross  \\\n",
       "count     1028.00       1028.00 1028.00            1028.00         1028.00   \n",
       "mean        14.77          6.38   51.19        52724594.02     67428142.50   \n",
       "std          7.98          0.78   28.73        58664335.25     90496828.26   \n",
       "min          0.60          4.00    1.00          100000.00            0.00   \n",
       "25%          9.61          5.90   26.75        12575000.00     14098195.50   \n",
       "50%         12.78          6.40   51.00        30000000.00     37536535.50   \n",
       "75%         17.27          6.90   77.00        68250000.00     79929883.75   \n",
       "max         80.77          8.40  100.00       410600000.00    700059566.00   \n",
       "\n",
       "       worldwide_gross  gross_profit  \n",
       "count          1028.00       1028.00  \n",
       "mean      170679620.70  117955026.68  \n",
       "std       250969660.03  208448622.84  \n",
       "min               0.00 -110450242.00  \n",
       "25%        25586094.50    5660857.50  \n",
       "50%        77127940.50   41992603.00  \n",
       "75%       197523215.00  128998065.00  \n",
       "max      2048134200.00 1748134200.00  "
      ]
     },
     "execution_count": 1422,
     "metadata": {},
     "output_type": "execute_result"
    }
   ],
   "source": [
    "pd.options.display.float_format = '{:.2f}'.format\n",
    "round(merged_data.describe(),2)"
   ]
  },
  {
   "cell_type": "markdown",
   "metadata": {},
   "source": [
    "### Top 20 Profit Margin Movies (2010-2020)"
   ]
  },
  {
   "cell_type": "code",
   "execution_count": 1423,
   "metadata": {
    "scrolled": true
   },
   "outputs": [
    {
     "data": {
      "text/html": [
       "<div>\n",
       "<style scoped>\n",
       "    .dataframe tbody tr th:only-of-type {\n",
       "        vertical-align: middle;\n",
       "    }\n",
       "\n",
       "    .dataframe tbody tr th {\n",
       "        vertical-align: top;\n",
       "    }\n",
       "\n",
       "    .dataframe thead th {\n",
       "        text-align: right;\n",
       "    }\n",
       "</style>\n",
       "<table border=\"1\" class=\"dataframe\">\n",
       "  <thead>\n",
       "    <tr style=\"text-align: right;\">\n",
       "      <th></th>\n",
       "      <th>original_title</th>\n",
       "      <th>gross_profit</th>\n",
       "    </tr>\n",
       "  </thead>\n",
       "  <tbody>\n",
       "    <tr>\n",
       "      <td>929</td>\n",
       "      <td>Avengers: Infinity War</td>\n",
       "      <td>1748134200</td>\n",
       "    </tr>\n",
       "    <tr>\n",
       "      <td>580</td>\n",
       "      <td>Jurassic World</td>\n",
       "      <td>1433854864</td>\n",
       "    </tr>\n",
       "    <tr>\n",
       "      <td>583</td>\n",
       "      <td>Furious 7</td>\n",
       "      <td>1328722794</td>\n",
       "    </tr>\n",
       "    <tr>\n",
       "      <td>222</td>\n",
       "      <td>The Avengers</td>\n",
       "      <td>1292935897</td>\n",
       "    </tr>\n",
       "    <tr>\n",
       "      <td>932</td>\n",
       "      <td>Black Panther</td>\n",
       "      <td>1148258224</td>\n",
       "    </tr>\n",
       "    <tr>\n",
       "      <td>941</td>\n",
       "      <td>Jurassic World: Fallen Kingdom</td>\n",
       "      <td>1135772799</td>\n",
       "    </tr>\n",
       "    <tr>\n",
       "      <td>830</td>\n",
       "      <td>Beauty and the Beast</td>\n",
       "      <td>1099199706</td>\n",
       "    </tr>\n",
       "    <tr>\n",
       "      <td>655</td>\n",
       "      <td>Minions</td>\n",
       "      <td>1086336173</td>\n",
       "    </tr>\n",
       "    <tr>\n",
       "      <td>563</td>\n",
       "      <td>Avengers: Age of Ultron</td>\n",
       "      <td>1072413963</td>\n",
       "    </tr>\n",
       "    <tr>\n",
       "      <td>939</td>\n",
       "      <td>Incredibles 2</td>\n",
       "      <td>1042520711</td>\n",
       "    </tr>\n",
       "  </tbody>\n",
       "</table>\n",
       "</div>"
      ],
      "text/plain": [
       "                     original_title  gross_profit\n",
       "929          Avengers: Infinity War    1748134200\n",
       "580                  Jurassic World    1433854864\n",
       "583                       Furious 7    1328722794\n",
       "222                    The Avengers    1292935897\n",
       "932                   Black Panther    1148258224\n",
       "941  Jurassic World: Fallen Kingdom    1135772799\n",
       "830            Beauty and the Beast    1099199706\n",
       "655                         Minions    1086336173\n",
       "563         Avengers: Age of Ultron    1072413963\n",
       "939                   Incredibles 2    1042520711"
      ]
     },
     "execution_count": 1423,
     "metadata": {},
     "output_type": "execute_result"
    }
   ],
   "source": [
    "top_10_grossprofit = merged_data.loc[:,['original_title',\n",
    "                                        'gross_profit']].sort_values(by='gross_profit',\n",
    "                                                                     ascending=False).head(10)\n",
    "top_10_grossprofit.head(10)"
   ]
  },
  {
   "cell_type": "code",
   "execution_count": 1424,
   "metadata": {},
   "outputs": [
    {
     "data": {
      "text/plain": [
       "Text(0.5, 0, 'Gross Profit (In Billions)')"
      ]
     },
     "execution_count": 1424,
     "metadata": {},
     "output_type": "execute_result"
    },
    {
     "data": {
      "image/png": "[encoded data removed]",
      "text/plain": [
       "<Figure size 1080x432 with 1 Axes>"
      ]
     },
     "metadata": {},
     "output_type": "display_data"
    }
   ],
   "source": [
    "plt.figure(figsize=(15,6))\n",
    "plt.barh(top_10_grossprofit['original_title'],top_10_grossprofit['gross_profit'])\n",
    "\n",
    "plt.title('Top 10 Movies with the Highest Profit Margin (2010-2020)',fontsize=20)\n",
    "plt.xlabel('Gross Profit (In Billions)')"
   ]
  },
  {
   "cell_type": "markdown",
   "metadata": {},
   "source": [
    "### Plotting Relationship between Vote Average and Profit Margin"
   ]
  },
  {
   "cell_type": "code",
   "execution_count": 1425,
   "metadata": {},
   "outputs": [
    {
     "data": {
      "image/png": "[encoded data removed]",
      "text/plain": [
       "<Figure size 1080x720 with 1 Axes>"
      ]
     },
     "metadata": {},
     "output_type": "display_data"
    }
   ],
   "source": [
    "sns.set_style({'grid.color':'black',\n",
    "               'axes.facecolor':'white',\n",
    "               'figure.facecolor':'white',\n",
    "               'axes.edgecolor':'black',\n",
    "               'axes.labelcolor':'black',\n",
    "               'xtick.color':'black',\n",
    "               'ytick.color':'black'})\n",
    "\n",
    "\n",
    "plt.figure(figsize=(15,10))\n",
    "ax = sns.regplot(x='vote_average',y='gross_profit',data=merged_data)\n",
    "ax.set(xlabel='Vote Average', ylabel='Gross Profit (In Billions)')\n",
    "plt.title('Relationship between Vote Average and Profit Margin for Movies (2010 - 2020)',fontsize=20)\n",
    "plt.show()\n",
    "\n"
   ]
  },
  {
   "cell_type": "code",
   "execution_count": 1426,
   "metadata": {},
   "outputs": [
    {
     "data": {
      "text/plain": [
       "0.2965503449562171"
      ]
     },
     "execution_count": 1426,
     "metadata": {},
     "output_type": "execute_result"
    }
   ],
   "source": [
    "correlation = merged_data['vote_average'].corr(merged_data['gross_profit'])\n",
    "correlation"
   ]
  },
  {
   "cell_type": "markdown",
   "metadata": {},
   "source": [
    "### Plotting Relationship between Popularity and Profit Margin"
   ]
  },
  {
   "cell_type": "code",
   "execution_count": 1427,
   "metadata": {},
   "outputs": [
    {
     "data": {
      "image/png": "[encoded data removed]",
      "text/plain": [
       "<Figure size 1080x720 with 1 Axes>"
      ]
     },
     "metadata": {},
     "output_type": "display_data"
    }
   ],
   "source": [
    "sns.set_style({'grid.color':'black',\n",
    "               'axes.facecolor':'white',\n",
    "               'figure.facecolor':'white',\n",
    "               'axes.edgecolor':'black',\n",
    "               'axes.labelcolor':'black',\n",
    "               'xtick.color':'black',\n",
    "               'ytick.color':'black'})\n",
    "plt.figure(figsize=(15,10))\n",
    "ax = sns.regplot(x='popularity',y='gross_profit',data=merged_data)\n",
    "ax.set(xlabel='Popularity', ylabel='Profit Margin (In Billions)')\n",
    "plt.title('Relationship between Popularity and Profit Margin for Movies (2010 - 2020)',fontsize=20)\n",
    "plt.show()"
   ]
  },
  {
   "cell_type": "code",
   "execution_count": 1428,
   "metadata": {},
   "outputs": [
    {
     "data": {
      "text/plain": [
       "0.5998378051823429"
      ]
     },
     "execution_count": 1428,
     "metadata": {},
     "output_type": "execute_result"
    }
   ],
   "source": [
    "correlation = merged_data['popularity'].corr(merged_data['gross_profit'])\n",
    "correlation"
   ]
  },
  {
   "cell_type": "markdown",
   "metadata": {},
   "source": [
    "### Q3 - Conclusion"
   ]
  },
  {
   "cell_type": "markdown",
   "metadata": {},
   "source": [
    "All three relationships have positive relationships.\n",
    "\n",
    "- Popularity and Vote Average (0.22)\n",
    "- Vote Average and Profit Margin (0.30)\n",
    "- Popularity and Profit Margin (0.60)\n",
    "\n",
    "Popularity and Profit Margin had the highest correlation among the three relationships. As a movie's popularity increases, profit margin will increase."
   ]
  },
  {
   "cell_type": "code",
   "execution_count": null,
   "metadata": {},
   "outputs": [],
   "source": []
  }
 ],
 "metadata": {
  "kernelspec": {
   "display_name": "Python 3",
   "language": "python",
   "name": "python3"
  },
  "language_info": {
   "codemirror_mode": {
    "name": "ipython",
    "version": 3
   },
   "file_extension": ".py",
   "mimetype": "text/x-python",
   "name": "python",
   "nbconvert_exporter": "python",
   "pygments_lexer": "ipython3",
   "version": "3.6.9"
  }
 },
 "nbformat": 4,
 "nbformat_minor": 2
}
